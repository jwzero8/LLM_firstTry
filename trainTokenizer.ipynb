{
 "cells": [
  {
   "cell_type": "code",
   "execution_count": 4,
   "id": "82679690-8339-4c73-8636-5d595dc98963",
   "metadata": {},
   "outputs": [
    {
     "name": "stdout",
     "output_type": "stream",
     "text": [
      "Tokenizer training completed.\n"
     ]
    }
   ],
   "source": [
    "# Train a Tokenizer\n",
    "\n",
    "import sentencepiece as spm\n",
    "import os\n",
    "\n",
    "vocab_size = 4096\n",
    "\n",
    "spm.SentencePieceTrainer.train(\n",
    "    input = 'wiki.txt',\n",
    "    model_prefix = 'test_wiki_tokenizer',\n",
    "    model_type = 'bpe',\n",
    "    vocab_size = vocab_size,\n",
    "    self_test_sample_size = 0,\n",
    "    input_format = 'text',\n",
    "    character_coverage = 0.995,\n",
    "    num_threads = os.cpu_count(),\n",
    "    split_digits = True,\n",
    "    allow_whitespace_only_pieces = True,\n",
    "    byte_fallback = True,\n",
    "    unk_surface = r'\\342\\201\\207',\n",
    "    normalization_rule_name = 'identity'\n",
    ")\n",
    "\n",
    "\n",
    "print('Tokenizer training completed.')\n",
    "\n",
    "\n",
    "\n",
    "\n",
    "\n",
    "\n",
    "\n",
    "\n",
    "\n",
    "\n",
    "\n",
    "\n",
    "\n",
    "\n",
    "\n",
    "\n",
    "\n"
   ]
  },
  {
   "cell_type": "code",
   "execution_count": null,
   "id": "910f790d-1b5e-4d03-8b3d-c8e98d33cdca",
   "metadata": {},
   "outputs": [],
   "source": []
  }
 ],
 "metadata": {
  "kernelspec": {
   "display_name": "Python 3 (ipykernel)",
   "language": "python",
   "name": "python3"
  },
  "language_info": {
   "codemirror_mode": {
    "name": "ipython",
    "version": 3
   },
   "file_extension": ".py",
   "mimetype": "text/x-python",
   "name": "python",
   "nbconvert_exporter": "python",
   "pygments_lexer": "ipython3",
   "version": "3.11.10"
  }
 },
 "nbformat": 4,
 "nbformat_minor": 5
}
